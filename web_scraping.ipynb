{
 "cells": [
  {
   "cell_type": "code",
   "execution_count": 21,
   "metadata": {},
   "outputs": [],
   "source": [
    "from web_scraping_utils import *"
   ]
  },
  {
   "cell_type": "code",
   "execution_count": 28,
   "metadata": {},
   "outputs": [
    {
     "name": "stderr",
     "output_type": "stream",
     "text": [
      "c:\\Users\\Rom\\anaconda3\\envs\\ML2\\Lib\\site-packages\\urllib3\\connectionpool.py:1099: InsecureRequestWarning: Unverified HTTPS request is being made to host 'dds.technion.ac.il'. Adding certificate verification is strongly advised. See: https://urllib3.readthedocs.io/en/latest/advanced-usage.html#tls-warnings\n",
      "  warnings.warn(\n"
     ]
    },
    {
     "name": "stdout",
     "output_type": "stream",
     "text": [
      "Processing S. Onn (ID: 1757412)\n",
      "Processing V. Indelman (ID: 2784557)\n",
      "Processing Rakefet Ackerman (ID: 2291858)\n",
      "Processing M. Erez (ID: 2994748)\n",
      "Processing Itai Arieli (ID: 2661139)\n",
      "Processing Y. Babichenko (ID: 2830102)\n",
      "Processing Marina Bogomolov (ID: 143774350)\n",
      "Processing A. Ben-Tal (ID: 73484911)\n",
      "Processing Omer Ben-Porat (ID: 1388406825)\n",
      "Processing Yevgeni Berzak (ID: 1908728)\n",
      "Processing Y. Goldberg (ID: 49589300)\n",
      "Processing B. Golany (ID: 1691093)\n",
      "Processing D. Gopher (ID: 3200337)\n",
      "Processing A. Gal (ID: 70189402)\n",
      "Processing I. Gilad (ID: 3225921)\n",
      "Processing D. Garber (ID: 52292717)\n",
      "Processing Eitan Gerstner (ID: 3129735)\n",
      "Processing U. D. Haan (ID: 2945039)\n",
      "Processing Carmel Domshlak (ID: 1735824)\n",
      "Processing D. Dori (ID: 144964966)\n",
      "Processing Atar Herziger (ID: 17697984)\n",
      "Skipping yale-t-harer: No authors found with name 'yale-t-harer'.\n",
      "Skipping dana-harrari: No authors found with name 'dana-harrari'.\n",
      "Processing I. Weissman (ID: 145895780)\n",
      "Processing Allon Vishkin (ID: 4690806)\n",
      "Processing Noa Zychlinski (ID: 41153844)\n",
      "Processing Tamir Hazan (ID: 1918412)\n",
      "Processing Nadav Hallak (ID: 3363263)\n",
      "Processing Moshe Tennenholtz (ID: 1708847)\n",
      "Processing G. Yom-Tov (ID: 1414117800)\n",
      "Processing E. Yechiam (ID: 2192917)\n",
      "Processing H. Kaspi (ID: 2290121)\n",
      "Processing E. Karpas (ID: 1944465)\n",
      "Processing Liat Levontin (ID: 19326298)\n",
      "Processing O. Louidor (ID: 2733702)\n",
      "Processing Asaf Levin (ID: 145269840)\n",
      "Processing S. Laufer (ID: 2215348)\n",
      "Processing R. Meir (ID: 39506910)\n",
      "Processing Dov Monderer (ID: 1712655)\n",
      "Processing S. Maital (ID: 2400320)\n",
      "Processing L. Mytnik (ID: 90326231)\n",
      "Processing A. Mandelbaum (ID: 1802581)\n",
      "Processing Gal Mendelson (ID: 37939768)\n",
      "Processing E. Naveh (ID: 2684712)\n",
      "Processing Shoham Sabach (ID: 3218963)\n",
      "Processing Rann Smorodinsky (ID: 2417693)\n",
      "Processing David Azriel (ID: 2374783)\n",
      "Processing Ofra Amir (ID: 2212554)\n",
      "Processing Y. Emek (ID: 1748546)\n",
      "Processing Ido Erev (ID: 1956288)\n",
      "Processing Uri Passy (ID: 2229296748)\n",
      "Processing P. Feigin (ID: 2926921)\n",
      "Processing Ori Plonsky (ID: 7286877)\n",
      "Processing M. Penn (ID: 1763729)\n",
      "Processing Eviatar B. Procaccia (ID: 2220821)\n",
      "Processing A. Parush (ID: 2542085)\n",
      "Processing Hovav Perets (ID: 103252280)\n",
      "Processing S. Kutten (ID: 1777800)\n",
      "Processing Oren Kurland (ID: 1779654)\n",
      "Processing Batya Kenig (ID: 2831260)\n",
      "Processing Yoed N. Kenett (ID: 3000599)\n",
      "Processing Roi Reichart (ID: 1762757)\n",
      "Processing A. Rafaeli (ID: 2539868)\n",
      "Processing A. Shtub (ID: 2485193)\n",
      "Processing O. Strichman (ID: 1747890)\n",
      "Processing Shimrit Shtern (ID: 39777485)\n",
      "Processing Kinneret Teodorescu (ID: 1728212)\n"
     ]
    }
   ],
   "source": [
    "# URL of the academic staff page\n",
    "technion_url = 'https://dds.technion.ac.il/people/academic_staff/'\n",
    "\n",
    "# API Key for Semantic Scholar (optional)\n",
    "semantic_scholar_api_key = None\n",
    "\n",
    "create_researcher_database(technion_url, api_key=semantic_scholar_api_key)"
   ]
  }
 ],
 "metadata": {
  "kernelspec": {
   "display_name": "ML2",
   "language": "python",
   "name": "python3"
  },
  "language_info": {
   "codemirror_mode": {
    "name": "ipython",
    "version": 3
   },
   "file_extension": ".py",
   "mimetype": "text/x-python",
   "name": "python",
   "nbconvert_exporter": "python",
   "pygments_lexer": "ipython3",
   "version": "3.11.7"
  }
 },
 "nbformat": 4,
 "nbformat_minor": 2
}
